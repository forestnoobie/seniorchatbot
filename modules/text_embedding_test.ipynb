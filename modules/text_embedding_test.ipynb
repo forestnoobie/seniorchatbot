{
 "cells": [
  {
   "cell_type": "code",
   "execution_count": 1,
   "id": "60941844-75df-433f-b056-f3bc80a04214",
   "metadata": {},
   "outputs": [],
   "source": [
    "from add_embedding import *"
   ]
  },
  {
   "cell_type": "code",
   "execution_count": 6,
   "id": "f963f5fd-3b59-49df-a849-055742baf7ad",
   "metadata": {},
   "outputs": [],
   "source": [
    "### Initial setting\n",
    "PROJECT_ID = \"primeval-argon-420311\"\n",
    "LOCATION = \"us-central1\"\n",
    "DIMENSIONS = 768\n",
    "BUCKET = \"embedding-text\"\n",
    "BUCKET_URI = f\"gs://{BUCKET}\"\n",
    "DISPLAY_NAME = \"text_embedding\"\n",
    "DEPLOYED_INDEX_ID = \"text_embedding_endpoint\"\n",
    "\n",
    "\n",
    "llm_type = \"gemini\" # openai"
   ]
  },
  {
   "cell_type": "code",
   "execution_count": 3,
   "id": "8a635e90-8e11-4aaa-b485-5acdea6fcae5",
   "metadata": {},
   "outputs": [],
   "source": [
    "aiplatform.init(project=PROJECT_ID, location=LOCATION, staging_bucket=BUCKET_URI)"
   ]
  },
  {
   "cell_type": "code",
   "execution_count": 4,
   "id": "aae5cecb-ea42-4758-847d-b0fc1f8ac761",
   "metadata": {},
   "outputs": [],
   "source": [
    "from langchain_google_vertexai import VertexAIEmbeddings\n",
    "from langchain.text_splitter import RecursiveCharacterTextSplitter\n",
    "\n",
    "# textembedding-gecko@001\n",
    "# multimodalembedding\n",
    "\n",
    "embedding_model = VertexAIEmbeddings(model_name=\"textembedding-gecko@001\")\n",
    "#vector = embeddings.embed_query(\"hello, world!\")\n"
   ]
  },
  {
   "cell_type": "code",
   "execution_count": 91,
   "id": "0afaae62-acd3-4d7e-941c-03070eb38bba",
   "metadata": {},
   "outputs": [
    {
     "name": "stdout",
     "output_type": "stream",
     "text": [
      "Deploying index MatchingEngineIndexEndpoint index_endpoint: projects/854115243710/locations/us-central1/indexEndpoints/1709912105005613056\n",
      "Deploy index MatchingEngineIndexEndpoint index_endpoint backing LRO: projects/854115243710/locations/us-central1/indexEndpoints/1709912105005613056/operations/4246347475935297536\n",
      "MatchingEngineIndexEndpoint index_endpoint Deployed index. Resource name: projects/854115243710/locations/us-central1/indexEndpoints/1709912105005613056\n"
     ]
    }
   ],
   "source": [
    "#NOTE : This operation can take upto 30 seconds\n",
    "# my_index = aiplatform.MatchingEngineIndex.create_tree_ah_index(\n",
    "#     display_name=DISPLAY_NAME,\n",
    "#     contents_delta_uri=BUCKET_URI,\n",
    "#     dimensions=DIMENSIONS,\n",
    "#     approximate_neighbors_count=150,\n",
    "#     distance_measure_type=\"DOT_PRODUCT_DISTANCE\",\n",
    "#     index_update_method=\"STREAM_UPDATE\",  # allowed values BATCH_UPDATE , STREAM_UPDATE\n",
    "# )\n",
    "# my_index_endpoint = aiplatform.MatchingEngineIndexEndpoint.create(\n",
    "#     display_name=f\"{DISPLAY_NAME}_endpoint\", public_endpoint_enabled=True\n",
    "# )\n",
    "\n",
    "# my_index_endpoint = my_index_endpoint.deploy_index(\n",
    "#     index=my_index, \n",
    "#     deployed_index_id=DEPLOYED_INDEX_ID,\n",
    "#     min_replica_count=1,\n",
    "#     max_replica_count=1\n",
    "# )"
   ]
  },
  {
   "cell_type": "code",
   "execution_count": 5,
   "id": "fddf4d05-aa74-4a35-ab94-a9617ee4ea99",
   "metadata": {},
   "outputs": [],
   "source": [
    "client = TextEmbeddingClient(index_id=\"5709952999040745472\", endpoint_id = \"1709912105005613056\")"
   ]
  },
  {
   "cell_type": "code",
   "execution_count": 6,
   "id": "c8cf98a2-724e-4751-9dff-c6ead37c5747",
   "metadata": {},
   "outputs": [
    {
     "name": "stdout",
     "output_type": "stream",
     "text": [
      "Upserting datapoints MatchingEngineIndex index: projects/854115243710/locations/us-central1/indexes/5709952999040745472\n",
      "MatchingEngineIndex index Upserted datapoints. Resource name: projects/854115243710/locations/us-central1/indexes/5709952999040745472\n"
     ]
    },
    {
     "data": {
      "text/plain": [
       "['fec0f361-e55d-4a26-9e07-0f7f3dbfbd96']"
      ]
     },
     "execution_count": 6,
     "metadata": {},
     "output_type": "execute_result"
    }
   ],
   "source": [
    "# Input texts\n",
    "texts = [\n",
    "    {\"description\":\"eat pizza for\"}\n",
    "]\n",
    "# Add vectors and mapped text chunks to your vectore store\n",
    "client.upload_embedding(texts)"
   ]
  },
  {
   "cell_type": "code",
   "execution_count": 7,
   "id": "92d5d17d-5ac7-4236-950d-dee770ff9598",
   "metadata": {},
   "outputs": [
    {
     "data": {
      "text/plain": [
       "[Document(page_content='eat pizza for'),\n",
       " Document(page_content='eat pizza for')]"
      ]
     },
     "execution_count": 7,
     "metadata": {},
     "output_type": "execute_result"
    }
   ],
   "source": [
    "# Try running a simialarity search\n",
    "client.similarity_search(\"pizza\")"
   ]
  },
  {
   "cell_type": "code",
   "execution_count": null,
   "id": "a056cfaf-d08c-4685-8f5c-59f835bab4e1",
   "metadata": {},
   "outputs": [],
   "source": [
    "from langchain_community.document_loaders import PyPDFLoader\n",
    "from langchain_text_splitters import RecursiveCharacterTextSplitter\n",
    "\n",
    "\n",
    "loader = PyPDFLoader(\"https://arxiv.org/pdf/1706.03762.pdf\")\n",
    "pages = loader.load(\n",
    "\n",
    "text_splitter = RecursiveCharacterTextSplitter(\n",
    "    # Set a really small chunk size, just to show.\n",
    "    chunk_size=1000,\n",
    "    chunk_overlap=20,\n",
    "    length_function=len,\n",
    "    is_separator_regex=False,\n",
    ")\n",
    "doc_splits = text_splitter.split_documents(pages)"
   ]
  },
  {
   "cell_type": "code",
   "execution_count": 66,
   "id": "880ec757-b6c1-467b-9007-3414d599a189",
   "metadata": {},
   "outputs": [],
   "source": [
    "# Input text with metadata\n",
    "record_data = [\n",
    "    {\n",
    "        \"description\": \"A versatile pair of dark-wash denim jeans.\"\n",
    "        \"Made from durable cotton with a classic straight-leg cut, these jeans\"\n",
    "        \" transition easily from casual days to dressier occasions.\",\n",
    "        \"price\": 65.00,\n",
    "        \"color\": \"blue\",\n",
    "        \"season\": [\"fall\", \"winter\", \"spring\"],\n",
    "    },\n",
    "    {\n",
    "        \"description\": \"A lightweight linen button-down shirt in a crisp white.\"\n",
    "        \" Perfect for keeping cool with breathable fabric and a relaxed fit.\",\n",
    "        \"price\": 34.99,\n",
    "        \"color\": \"white\",\n",
    "        \"season\": [\"summer\", \"spring\"],\n",
    "    },\n",
    "    {\n",
    "        \"description\": \"A soft, chunky knit sweater in a vibrant forest green. \"\n",
    "        \"The oversized fit and cozy wool blend make this ideal for staying warm \"\n",
    "        \"when the temperature drops.\",\n",
    "        \"price\": 89.99,\n",
    "        \"color\": \"green\",\n",
    "        \"season\": [\"fall\", \"winter\"],\n",
    "    },\n",
    "    {\n",
    "        \"description\": \"A classic crewneck t-shirt in a soft, heathered blue. \"\n",
    "        \"Made from comfortable cotton jersey, this t-shirt is a wardrobe essential \"\n",
    "        \"that works for every season.\",\n",
    "        \"price\": 19.99,\n",
    "        \"color\": \"blue\",\n",
    "        \"season\": [\"fall\", \"winter\", \"summer\", \"spring\"],\n",
    "    },\n",
    "    {\n",
    "        \"description\": \"A flowing midi-skirt in a delicate floral print. \"\n",
    "        \"Lightweight and airy, this skirt adds a touch of feminine style \"\n",
    "        \"to warmer days.\",\n",
    "        \"price\": 45.00,\n",
    "        \"color\": \"white\",\n",
    "        \"season\": [\"spring\", \"summer\"],\n",
    "    },\n",
    "]"
   ]
  },
  {
   "cell_type": "code",
   "execution_count": 70,
   "id": "9f74677a-856f-4ead-87dd-c11f1d08ec2a",
   "metadata": {},
   "outputs": [],
   "source": [
    "from google.cloud.aiplatform.matching_engine.matching_engine_index_endpoint import (\n",
    "    Namespace,\n",
    "    NumericNamespace,\n",
    ")"
   ]
  },
  {
   "cell_type": "code",
   "execution_count": 16,
   "id": "56b1f6cb-3675-4c18-89bb-c5700db9f6f0",
   "metadata": {},
   "outputs": [
    {
     "data": {
      "text/plain": [
       "[Document(page_content='eat pizza for')]"
      ]
     },
     "execution_count": 16,
     "metadata": {},
     "output_type": "execute_result"
    }
   ],
   "source": [
    "# Try running a simple similarity search\n",
    "# Below code should return 5 results\n",
    "client.similarity_search(\"shirt\", k=5)"
   ]
  },
  {
   "cell_type": "code",
   "execution_count": 17,
   "id": "9ba7e549-e8a6-47d8-9bd4-0c6ad802437c",
   "metadata": {},
   "outputs": [
    {
     "data": {
      "text/plain": [
       "[]"
      ]
     },
     "execution_count": 17,
     "metadata": {},
     "output_type": "execute_result"
    }
   ],
   "source": [
    "# Try running a similarity search with text filter\n",
    "filters = [Namespace(name=\"season\", allow_tokens=[\"spring\"])]\n",
    "\n",
    "# Below code should return 4 results now\n",
    "client.similarity_search(\"pizza\", k=5, filters=filters)"
   ]
  },
  {
   "cell_type": "code",
   "execution_count": 73,
   "id": "28bb570f-b9b1-4d25-af8b-f7137b495130",
   "metadata": {},
   "outputs": [],
   "source": [
    "# Initialize the vectore_store as retriever\n",
    "retriever = vector_store.as_retriever()"
   ]
  },
  {
   "cell_type": "code",
   "execution_count": 74,
   "id": "252cacf4-5c6a-4ba5-a1c6-8fae73c35b9d",
   "metadata": {},
   "outputs": [
    {
     "data": {
      "text/plain": [
       "[Document(page_content='A lightweight linen button-down shirt in a crisp white. Perfect for keeping cool with breathable fabric and a relaxed fit.', metadata={'price': 34.99, 'color': 'white', 'season': ['summer', 'spring']}),\n",
       " Document(page_content='A classic crewneck t-shirt in a soft, heathered blue. Made from comfortable cotton jersey, this t-shirt is a wardrobe essential that works for every season.', metadata={'price': 19.99, 'color': 'blue', 'season': ['fall', 'winter', 'summer', 'spring']}),\n",
       " Document(page_content='A flowing midi-skirt in a delicate floral print. Lightweight and airy, this skirt adds a touch of feminine style to warmer days.', metadata={'price': 45.0, 'color': 'white', 'season': ['spring', 'summer']}),\n",
       " Document(page_content='A versatile pair of dark-wash denim jeans.Made from durable cotton with a classic straight-leg cut, these jeans transition easily from casual days to dressier occasions.', metadata={'price': 65.0, 'color': 'blue', 'season': ['fall', 'winter', 'spring']})]"
      ]
     },
     "execution_count": 74,
     "metadata": {},
     "output_type": "execute_result"
    }
   ],
   "source": [
    "# Try running a similarity search with text filter\n",
    "filters = [Namespace(name=\"season\", allow_tokens=[\"spring\"])]\n",
    "retriever.search_kwargs = {\"filter\": filters}\n",
    "\n",
    "# perform similarity search with filters on retriever\n",
    "retriever.invoke(\"What are my options in breathable fabric?\")"
   ]
  },
  {
   "cell_type": "code",
   "execution_count": 75,
   "id": "b5c2118a-4f49-44c2-926e-90507f55d15d",
   "metadata": {},
   "outputs": [],
   "source": [
    "from langchain_google_vertexai import VertexAI\n",
    "llm = VertexAI(model_name=\"gemini-pro\")"
   ]
  },
  {
   "cell_type": "code",
   "execution_count": 5,
   "id": "9dab8538-ba24-4c48-8fad-51596a93f9e0",
   "metadata": {},
   "outputs": [
    {
     "ename": "NameError",
     "evalue": "name 'retriever' is not defined",
     "output_type": "error",
     "traceback": [
      "\u001b[0;31m---------------------------------------------------------------------------\u001b[0m",
      "\u001b[0;31mNameError\u001b[0m                                 Traceback (most recent call last)",
      "Cell \u001b[0;32mIn[5], line 6\u001b[0m\n\u001b[1;32m      3\u001b[0m filters \u001b[38;5;241m=\u001b[39m [Namespace(name\u001b[38;5;241m=\u001b[39m\u001b[38;5;124m\"\u001b[39m\u001b[38;5;124mseason\u001b[39m\u001b[38;5;124m\"\u001b[39m, allow_tokens\u001b[38;5;241m=\u001b[39m[\u001b[38;5;124m\"\u001b[39m\u001b[38;5;124mspring\u001b[39m\u001b[38;5;124m\"\u001b[39m])]\n\u001b[1;32m      4\u001b[0m numeric_filters \u001b[38;5;241m=\u001b[39m [NumericNamespace(name\u001b[38;5;241m=\u001b[39m\u001b[38;5;124m\"\u001b[39m\u001b[38;5;124mprice\u001b[39m\u001b[38;5;124m\"\u001b[39m, value_float\u001b[38;5;241m=\u001b[39m\u001b[38;5;241m40.0\u001b[39m, op\u001b[38;5;241m=\u001b[39m\u001b[38;5;124m\"\u001b[39m\u001b[38;5;124mLESS\u001b[39m\u001b[38;5;124m\"\u001b[39m)]\n\u001b[0;32m----> 6\u001b[0m \u001b[43mretriever\u001b[49m\u001b[38;5;241m.\u001b[39msearch_kwargs \u001b[38;5;241m=\u001b[39m {\u001b[38;5;124m\"\u001b[39m\u001b[38;5;124mk\u001b[39m\u001b[38;5;124m\"\u001b[39m: \u001b[38;5;241m2\u001b[39m, \u001b[38;5;124m\"\u001b[39m\u001b[38;5;124mfilter\u001b[39m\u001b[38;5;124m\"\u001b[39m: filters, \u001b[38;5;124m\"\u001b[39m\u001b[38;5;124mnumeric_filter\u001b[39m\u001b[38;5;124m\"\u001b[39m: numeric_filters}\n\u001b[1;32m      8\u001b[0m retrieval_qa \u001b[38;5;241m=\u001b[39m RetrievalQA\u001b[38;5;241m.\u001b[39mfrom_chain_type(\n\u001b[1;32m      9\u001b[0m     llm\u001b[38;5;241m=\u001b[39mllm,\n\u001b[1;32m     10\u001b[0m     chain_type\u001b[38;5;241m=\u001b[39m\u001b[38;5;124m\"\u001b[39m\u001b[38;5;124mstuff\u001b[39m\u001b[38;5;124m\"\u001b[39m,\n\u001b[1;32m     11\u001b[0m     retriever\u001b[38;5;241m=\u001b[39mretriever,\n\u001b[1;32m     12\u001b[0m     return_source_documents\u001b[38;5;241m=\u001b[39m\u001b[38;5;28;01mTrue\u001b[39;00m,\n\u001b[1;32m     13\u001b[0m )\n\u001b[1;32m     15\u001b[0m question \u001b[38;5;241m=\u001b[39m \u001b[38;5;124m\"\u001b[39m\u001b[38;5;124mWhat are my options in breathable fabric?\u001b[39m\u001b[38;5;124m\"\u001b[39m\n",
      "\u001b[0;31mNameError\u001b[0m: name 'retriever' is not defined"
     ]
    }
   ],
   "source": [
    "from langchain.chains import RetrievalQA\n",
    "from langchain_google_vertexai import VertexAI\n",
    "\n",
    "llm = VertexAI(model_name=\"gemini-pro\")\n",
    "\n",
    "filters = [Namespace(name=\"season\", allow_tokens=[\"spring\"])]\n",
    "numeric_filters = [NumericNamespace(name=\"price\", value_float=40.0, op=\"LESS\")]\n",
    "\n",
    "retriever.search_kwargs = {\"k\": 2, \"filter\": filters, \"numeric_filter\": numeric_filters}\n",
    "\n",
    "retrieval_qa = RetrievalQA.from_chain_type(\n",
    "    llm=llm,\n",
    "    chain_type=\"stuff\",\n",
    "    retriever=retriever,\n",
    "    return_source_documents=True,\n",
    ")\n",
    "\n",
    "question = \"What are my options in breathable fabric?\"\n",
    "response = retrieval_qa({\"query\": question})\n",
    "print(f\"{response['result']}\")\n",
    "print(\"REFERENCES\")\n",
    "print(f\"{response['source_documents']}\")"
   ]
  },
  {
   "cell_type": "code",
   "execution_count": 7,
   "id": "806a111f-ade2-4de5-8ce7-50c0541df168",
   "metadata": {},
   "outputs": [],
   "source": [
    "\n",
    "# Set variables for the current deployed index.\n",
    "API_ENDPOINT=\"1754456625.us-central1-854115243710.vdb.vertexai.goog\"\n",
    "INDEX_ENDPOINT=\"projects/854115243710/locations/us-central1/indexEndpoints/1709912105005613056\"\n",
    "DEPLOYED_INDEX_ID=\"text_embedding_endpoint\"\n",
    "INDEX_ID = \"5709952999040745472\"\n",
    "ENDPOINT_ID = \"1709912105005613056\"\n",
    "\n",
    "\n",
    "search_client = VectorSearchClient(index_endpoint=INDEX_ENDPOINT,deployed_index_id=DEPLOYED_INDEX_ID, bucket_uri=BUCKET_URI, index_id=INDEX_ID, endpoint_id = ENDPOINT_I )"
   ]
  },
  {
   "cell_type": "code",
   "execution_count": 8,
   "id": "89b09b33-ab8e-4291-96fc-579aacacf891",
   "metadata": {},
   "outputs": [
    {
     "data": {
      "text/plain": [
       "[[MatchNeighbor(id='9cafdfc2-0cac-4552-be91-08b1dcae35cd', distance=0.7646218538284302, feature_vector=[], crowding_tag='0', restricts=[], numeric_restricts=[]),\n",
       "  MatchNeighbor(id='fec0f361-e55d-4a26-9e07-0f7f3dbfbd96', distance=0.7646218538284302, feature_vector=[], crowding_tag='0', restricts=[], numeric_restricts=[])]]"
      ]
     },
     "execution_count": 8,
     "metadata": {},
     "output_type": "execute_result"
    }
   ],
   "source": [
    "embedding_model = VertexAIEmbeddings(model_name=\"textembedding-gecko@001\")\n",
    "vector = embedding_model.embed_query(\"pizza\")\n",
    "search_client.find_neighbors(vector)"
   ]
  },
  {
   "cell_type": "code",
   "execution_count": 10,
   "id": "bcf98ba6-f4f0-403e-b019-b80f13f92223",
   "metadata": {},
   "outputs": [
    {
     "name": "stdout",
     "output_type": "stream",
     "text": [
      "Updating MatchingEngineIndex index: projects/854115243710/locations/us-central1/indexes/5709952999040745472\n"
     ]
    },
    {
     "ename": "InvalidArgument",
     "evalue": "400 The given gcs path `gs://embedding-text/` is not a valid directory or the directory has empty content.",
     "output_type": "error",
     "traceback": [
      "\u001b[0;31m---------------------------------------------------------------------------\u001b[0m",
      "\u001b[0;31m_InactiveRpcError\u001b[0m                         Traceback (most recent call last)",
      "File \u001b[0;32m~/miniconda3/envs/py310/lib/python3.10/site-packages/google/api_core/grpc_helpers.py:76\u001b[0m, in \u001b[0;36m_wrap_unary_errors.<locals>.error_remapped_callable\u001b[0;34m(*args, **kwargs)\u001b[0m\n\u001b[1;32m     75\u001b[0m \u001b[38;5;28;01mtry\u001b[39;00m:\n\u001b[0;32m---> 76\u001b[0m     \u001b[38;5;28;01mreturn\u001b[39;00m \u001b[43mcallable_\u001b[49m\u001b[43m(\u001b[49m\u001b[38;5;241;43m*\u001b[39;49m\u001b[43margs\u001b[49m\u001b[43m,\u001b[49m\u001b[43m \u001b[49m\u001b[38;5;241;43m*\u001b[39;49m\u001b[38;5;241;43m*\u001b[39;49m\u001b[43mkwargs\u001b[49m\u001b[43m)\u001b[49m\n\u001b[1;32m     77\u001b[0m \u001b[38;5;28;01mexcept\u001b[39;00m grpc\u001b[38;5;241m.\u001b[39mRpcError \u001b[38;5;28;01mas\u001b[39;00m exc:\n",
      "File \u001b[0;32m~/miniconda3/envs/py310/lib/python3.10/site-packages/grpc/_channel.py:1176\u001b[0m, in \u001b[0;36m_UnaryUnaryMultiCallable.__call__\u001b[0;34m(self, request, timeout, metadata, credentials, wait_for_ready, compression)\u001b[0m\n\u001b[1;32m   1170\u001b[0m (\n\u001b[1;32m   1171\u001b[0m     state,\n\u001b[1;32m   1172\u001b[0m     call,\n\u001b[1;32m   1173\u001b[0m ) \u001b[38;5;241m=\u001b[39m \u001b[38;5;28mself\u001b[39m\u001b[38;5;241m.\u001b[39m_blocking(\n\u001b[1;32m   1174\u001b[0m     request, timeout, metadata, credentials, wait_for_ready, compression\n\u001b[1;32m   1175\u001b[0m )\n\u001b[0;32m-> 1176\u001b[0m \u001b[38;5;28;01mreturn\u001b[39;00m \u001b[43m_end_unary_response_blocking\u001b[49m\u001b[43m(\u001b[49m\u001b[43mstate\u001b[49m\u001b[43m,\u001b[49m\u001b[43m \u001b[49m\u001b[43mcall\u001b[49m\u001b[43m,\u001b[49m\u001b[43m \u001b[49m\u001b[38;5;28;43;01mFalse\u001b[39;49;00m\u001b[43m,\u001b[49m\u001b[43m \u001b[49m\u001b[38;5;28;43;01mNone\u001b[39;49;00m\u001b[43m)\u001b[49m\n",
      "File \u001b[0;32m~/miniconda3/envs/py310/lib/python3.10/site-packages/grpc/_channel.py:1005\u001b[0m, in \u001b[0;36m_end_unary_response_blocking\u001b[0;34m(state, call, with_call, deadline)\u001b[0m\n\u001b[1;32m   1004\u001b[0m \u001b[38;5;28;01melse\u001b[39;00m:\n\u001b[0;32m-> 1005\u001b[0m     \u001b[38;5;28;01mraise\u001b[39;00m _InactiveRpcError(state)\n",
      "\u001b[0;31m_InactiveRpcError\u001b[0m: <_InactiveRpcError of RPC that terminated with:\n\tstatus = StatusCode.INVALID_ARGUMENT\n\tdetails = \"The given gcs path `gs://embedding-text/` is not a valid directory or the directory has empty content.\"\n\tdebug_error_string = \"UNKNOWN:Error received from peer ipv4:142.250.206.202:443 {grpc_message:\"The given gcs path `gs://embedding-text/` is not a valid directory or the directory has empty content.\", grpc_status:3, created_time:\"2024-04-24T20:25:48.862648065+09:00\"}\"\n>",
      "\nThe above exception was the direct cause of the following exception:\n",
      "\u001b[0;31mInvalidArgument\u001b[0m                           Traceback (most recent call last)",
      "Cell \u001b[0;32mIn[10], line 1\u001b[0m\n\u001b[0;32m----> 1\u001b[0m \u001b[43msearch_client\u001b[49m\u001b[38;5;241;43m.\u001b[39;49m\u001b[43mupdate_index\u001b[49m\u001b[43m(\u001b[49m\u001b[43m)\u001b[49m\n",
      "File \u001b[0;32m~/Desktop/llm/jg/seniorchatbot/modules/add_embedding.py:86\u001b[0m, in \u001b[0;36mVectorSearchClient.update_index\u001b[0;34m(self)\u001b[0m\n\u001b[1;32m     84\u001b[0m \u001b[38;5;28;01mdef\u001b[39;00m \u001b[38;5;21mupdate_index\u001b[39m(\u001b[38;5;28mself\u001b[39m):\n\u001b[1;32m     85\u001b[0m     index \u001b[38;5;241m=\u001b[39m aiplatform\u001b[38;5;241m.\u001b[39mMatchingEngineIndex(\u001b[38;5;124m\"\u001b[39m\u001b[38;5;124m5709952999040745472\u001b[39m\u001b[38;5;124m\"\u001b[39m)\n\u001b[0;32m---> 86\u001b[0m     \u001b[43mindex\u001b[49m\u001b[38;5;241;43m.\u001b[39;49m\u001b[43mupdate_embeddings\u001b[49m\u001b[43m(\u001b[49m\u001b[43mcontents_delta_uri\u001b[49m\u001b[38;5;241;43m=\u001b[39;49m\u001b[38;5;28;43mself\u001b[39;49m\u001b[38;5;241;43m.\u001b[39;49m\u001b[43mbucket_uri\u001b[49m\u001b[43m,\u001b[49m\u001b[43m \u001b[49m\u001b[43mis_complete_overwrite\u001b[49m\u001b[38;5;241;43m=\u001b[39;49m\u001b[38;5;28;43;01mTrue\u001b[39;49;00m\u001b[43m)\u001b[49m\n",
      "File \u001b[0;32m~/miniconda3/envs/py310/lib/python3.10/site-packages/google/cloud/aiplatform/matching_engine/matching_engine_index.py:383\u001b[0m, in \u001b[0;36mMatchingEngineIndex.update_embeddings\u001b[0;34m(self, contents_delta_uri, is_complete_overwrite, request_metadata, update_request_timeout)\u001b[0m\n\u001b[1;32m    369\u001b[0m gapic_index \u001b[38;5;241m=\u001b[39m gca_matching_engine_index\u001b[38;5;241m.\u001b[39mIndex(\n\u001b[1;32m    370\u001b[0m     name\u001b[38;5;241m=\u001b[39m\u001b[38;5;28mself\u001b[39m\u001b[38;5;241m.\u001b[39mresource_name,\n\u001b[1;32m    371\u001b[0m     metadata\u001b[38;5;241m=\u001b[39m{\n\u001b[0;32m   (...)\u001b[0m\n\u001b[1;32m    374\u001b[0m     },\n\u001b[1;32m    375\u001b[0m )\n\u001b[1;32m    377\u001b[0m _LOGGER\u001b[38;5;241m.\u001b[39mlog_action_start_against_resource(\n\u001b[1;32m    378\u001b[0m     \u001b[38;5;124m\"\u001b[39m\u001b[38;5;124mUpdating\u001b[39m\u001b[38;5;124m\"\u001b[39m,\n\u001b[1;32m    379\u001b[0m     \u001b[38;5;124m\"\u001b[39m\u001b[38;5;124mindex\u001b[39m\u001b[38;5;124m\"\u001b[39m,\n\u001b[1;32m    380\u001b[0m     \u001b[38;5;28mself\u001b[39m,\n\u001b[1;32m    381\u001b[0m )\n\u001b[0;32m--> 383\u001b[0m update_lro \u001b[38;5;241m=\u001b[39m \u001b[38;5;28;43mself\u001b[39;49m\u001b[38;5;241;43m.\u001b[39;49m\u001b[43mapi_client\u001b[49m\u001b[38;5;241;43m.\u001b[39;49m\u001b[43mupdate_index\u001b[49m\u001b[43m(\u001b[49m\n\u001b[1;32m    384\u001b[0m \u001b[43m    \u001b[49m\u001b[43mindex\u001b[49m\u001b[38;5;241;43m=\u001b[39;49m\u001b[43mgapic_index\u001b[49m\u001b[43m,\u001b[49m\n\u001b[1;32m    385\u001b[0m \u001b[43m    \u001b[49m\u001b[43mupdate_mask\u001b[49m\u001b[38;5;241;43m=\u001b[39;49m\u001b[43mupdate_mask\u001b[49m\u001b[43m,\u001b[49m\n\u001b[1;32m    386\u001b[0m \u001b[43m    \u001b[49m\u001b[43mmetadata\u001b[49m\u001b[38;5;241;43m=\u001b[39;49m\u001b[43mrequest_metadata\u001b[49m\u001b[43m,\u001b[49m\n\u001b[1;32m    387\u001b[0m \u001b[43m    \u001b[49m\u001b[43mtimeout\u001b[49m\u001b[38;5;241;43m=\u001b[39;49m\u001b[43mupdate_request_timeout\u001b[49m\u001b[43m,\u001b[49m\n\u001b[1;32m    388\u001b[0m \u001b[43m\u001b[49m\u001b[43m)\u001b[49m\n\u001b[1;32m    390\u001b[0m _LOGGER\u001b[38;5;241m.\u001b[39mlog_action_started_against_resource_with_lro(\n\u001b[1;32m    391\u001b[0m     \u001b[38;5;124m\"\u001b[39m\u001b[38;5;124mUpdate\u001b[39m\u001b[38;5;124m\"\u001b[39m, \u001b[38;5;124m\"\u001b[39m\u001b[38;5;124mindex\u001b[39m\u001b[38;5;124m\"\u001b[39m, \u001b[38;5;28mself\u001b[39m\u001b[38;5;241m.\u001b[39m\u001b[38;5;18m__class__\u001b[39m, update_lro\n\u001b[1;32m    392\u001b[0m )\n\u001b[1;32m    394\u001b[0m \u001b[38;5;28mself\u001b[39m\u001b[38;5;241m.\u001b[39m_gca_resource \u001b[38;5;241m=\u001b[39m update_lro\u001b[38;5;241m.\u001b[39mresult(timeout\u001b[38;5;241m=\u001b[39m\u001b[38;5;28;01mNone\u001b[39;00m)\n",
      "File \u001b[0;32m~/miniconda3/envs/py310/lib/python3.10/site-packages/google/cloud/aiplatform_v1/services/index_service/client.py:1181\u001b[0m, in \u001b[0;36mIndexServiceClient.update_index\u001b[0;34m(self, request, index, update_mask, retry, timeout, metadata)\u001b[0m\n\u001b[1;32m   1178\u001b[0m \u001b[38;5;28mself\u001b[39m\u001b[38;5;241m.\u001b[39m_validate_universe_domain()\n\u001b[1;32m   1180\u001b[0m \u001b[38;5;66;03m# Send the request.\u001b[39;00m\n\u001b[0;32m-> 1181\u001b[0m response \u001b[38;5;241m=\u001b[39m \u001b[43mrpc\u001b[49m\u001b[43m(\u001b[49m\n\u001b[1;32m   1182\u001b[0m \u001b[43m    \u001b[49m\u001b[43mrequest\u001b[49m\u001b[43m,\u001b[49m\n\u001b[1;32m   1183\u001b[0m \u001b[43m    \u001b[49m\u001b[43mretry\u001b[49m\u001b[38;5;241;43m=\u001b[39;49m\u001b[43mretry\u001b[49m\u001b[43m,\u001b[49m\n\u001b[1;32m   1184\u001b[0m \u001b[43m    \u001b[49m\u001b[43mtimeout\u001b[49m\u001b[38;5;241;43m=\u001b[39;49m\u001b[43mtimeout\u001b[49m\u001b[43m,\u001b[49m\n\u001b[1;32m   1185\u001b[0m \u001b[43m    \u001b[49m\u001b[43mmetadata\u001b[49m\u001b[38;5;241;43m=\u001b[39;49m\u001b[43mmetadata\u001b[49m\u001b[43m,\u001b[49m\n\u001b[1;32m   1186\u001b[0m \u001b[43m\u001b[49m\u001b[43m)\u001b[49m\n\u001b[1;32m   1188\u001b[0m \u001b[38;5;66;03m# Wrap the response in an operation future.\u001b[39;00m\n\u001b[1;32m   1189\u001b[0m response \u001b[38;5;241m=\u001b[39m gac_operation\u001b[38;5;241m.\u001b[39mfrom_gapic(\n\u001b[1;32m   1190\u001b[0m     response,\n\u001b[1;32m   1191\u001b[0m     \u001b[38;5;28mself\u001b[39m\u001b[38;5;241m.\u001b[39m_transport\u001b[38;5;241m.\u001b[39moperations_client,\n\u001b[1;32m   1192\u001b[0m     gca_index\u001b[38;5;241m.\u001b[39mIndex,\n\u001b[1;32m   1193\u001b[0m     metadata_type\u001b[38;5;241m=\u001b[39mindex_service\u001b[38;5;241m.\u001b[39mUpdateIndexOperationMetadata,\n\u001b[1;32m   1194\u001b[0m )\n",
      "File \u001b[0;32m~/miniconda3/envs/py310/lib/python3.10/site-packages/google/api_core/gapic_v1/method.py:131\u001b[0m, in \u001b[0;36m_GapicCallable.__call__\u001b[0;34m(self, timeout, retry, compression, *args, **kwargs)\u001b[0m\n\u001b[1;32m    128\u001b[0m \u001b[38;5;28;01mif\u001b[39;00m \u001b[38;5;28mself\u001b[39m\u001b[38;5;241m.\u001b[39m_compression \u001b[38;5;129;01mis\u001b[39;00m \u001b[38;5;129;01mnot\u001b[39;00m \u001b[38;5;28;01mNone\u001b[39;00m:\n\u001b[1;32m    129\u001b[0m     kwargs[\u001b[38;5;124m\"\u001b[39m\u001b[38;5;124mcompression\u001b[39m\u001b[38;5;124m\"\u001b[39m] \u001b[38;5;241m=\u001b[39m compression\n\u001b[0;32m--> 131\u001b[0m \u001b[38;5;28;01mreturn\u001b[39;00m \u001b[43mwrapped_func\u001b[49m\u001b[43m(\u001b[49m\u001b[38;5;241;43m*\u001b[39;49m\u001b[43margs\u001b[49m\u001b[43m,\u001b[49m\u001b[43m \u001b[49m\u001b[38;5;241;43m*\u001b[39;49m\u001b[38;5;241;43m*\u001b[39;49m\u001b[43mkwargs\u001b[49m\u001b[43m)\u001b[49m\n",
      "File \u001b[0;32m~/miniconda3/envs/py310/lib/python3.10/site-packages/google/api_core/grpc_helpers.py:78\u001b[0m, in \u001b[0;36m_wrap_unary_errors.<locals>.error_remapped_callable\u001b[0;34m(*args, **kwargs)\u001b[0m\n\u001b[1;32m     76\u001b[0m     \u001b[38;5;28;01mreturn\u001b[39;00m callable_(\u001b[38;5;241m*\u001b[39margs, \u001b[38;5;241m*\u001b[39m\u001b[38;5;241m*\u001b[39mkwargs)\n\u001b[1;32m     77\u001b[0m \u001b[38;5;28;01mexcept\u001b[39;00m grpc\u001b[38;5;241m.\u001b[39mRpcError \u001b[38;5;28;01mas\u001b[39;00m exc:\n\u001b[0;32m---> 78\u001b[0m     \u001b[38;5;28;01mraise\u001b[39;00m exceptions\u001b[38;5;241m.\u001b[39mfrom_grpc_error(exc) \u001b[38;5;28;01mfrom\u001b[39;00m \u001b[38;5;21;01mexc\u001b[39;00m\n",
      "\u001b[0;31mInvalidArgument\u001b[0m: 400 The given gcs path `gs://embedding-text/` is not a valid directory or the directory has empty content."
     ]
    }
   ],
   "source": [
    "search_client.update_index()"
   ]
  },
  {
   "cell_type": "code",
   "execution_count": null,
   "id": "7dfebc48-263d-41f3-9a86-4da6a981e6d6",
   "metadata": {},
   "outputs": [],
   "source": []
  }
 ],
 "metadata": {
  "kernelspec": {
   "display_name": "Python 3 (ipykernel)",
   "language": "python",
   "name": "python3"
  },
  "language_info": {
   "codemirror_mode": {
    "name": "ipython",
    "version": 3
   },
   "file_extension": ".py",
   "mimetype": "text/x-python",
   "name": "python",
   "nbconvert_exporter": "python",
   "pygments_lexer": "ipython3",
   "version": "3.10.14"
  }
 },
 "nbformat": 4,
 "nbformat_minor": 5
}
