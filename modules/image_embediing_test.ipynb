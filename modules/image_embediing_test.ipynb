{
 "cells": [
  {
   "cell_type": "code",
   "execution_count": 12,
   "id": "60941844-75df-433f-b056-f3bc80a04214",
   "metadata": {},
   "outputs": [],
   "source": [
    "from add_embedding import *"
   ]
  },
  {
   "cell_type": "code",
   "execution_count": 19,
   "id": "f963f5fd-3b59-49df-a849-055742baf7ad",
   "metadata": {},
   "outputs": [],
   "source": [
    "### Initial setting\n",
    "PROJECT_ID = \"primeval-argon-420311\"\n",
    "LOCATION = \"us-central1\"\n",
    "DIMENSIONS = 1408\n",
    "BUCKET = \"embedding-image\"\n",
    "BUCKET_URI = f\"gs://{BUCKET}\"\n",
    "DISPLAY_NAME = \"image_embedding\"\n",
    "DEPLOYED_INDEX_ID = \"image_embedding_index\"\n",
    "llm_type = \"gemini\" # openai"
   ]
  },
  {
   "cell_type": "code",
   "execution_count": 20,
   "id": "8a635e90-8e11-4aaa-b485-5acdea6fcae5",
   "metadata": {},
   "outputs": [],
   "source": [
    "aiplatform.init(project=PROJECT_ID, location=LOCATION, staging_bucket=BUCKET_URI)"
   ]
  },
  {
   "cell_type": "code",
   "execution_count": 21,
   "id": "aae5cecb-ea42-4758-847d-b0fc1f8ac761",
   "metadata": {},
   "outputs": [],
   "source": [
    "# from langchain_google_vertexai import VertexAIEmbeddings\n",
    "# from langchain.text_splitter import RecursiveCharacterTextSplitter\n",
    "\n",
    "# textembedding-gecko@001\n",
    "# multimodalembedding\n",
    "#embeddings = VertexAIEmbeddings(model_name=\"multimodalembedding\")\n",
    "#vector = embeddings.embed_query(\"hello, world!\")\n"
   ]
  },
  {
   "cell_type": "code",
   "execution_count": 23,
   "id": "0afaae62-acd3-4d7e-941c-03070eb38bba",
   "metadata": {},
   "outputs": [
    {
     "name": "stdout",
     "output_type": "stream",
     "text": [
      "Deploying index MatchingEngineIndexEndpoint index_endpoint: projects/854115243710/locations/us-central1/indexEndpoints/468888932688330752\n",
      "Deploy index MatchingEngineIndexEndpoint index_endpoint backing LRO: projects/854115243710/locations/us-central1/indexEndpoints/468888932688330752/operations/3070485760726532096\n"
     ]
    },
    {
     "ename": "ResourceExhausted",
     "evalue": "429 The following quotas are exceeded: MatchingEngineDeployedIndexNodes 8: The following quotas are exceeded: MatchingEngineDeployedIndexNodes",
     "output_type": "error",
     "traceback": [
      "\u001b[0;31m---------------------------------------------------------------------------\u001b[0m",
      "\u001b[0;31mResourceExhausted\u001b[0m                         Traceback (most recent call last)",
      "Cell \u001b[0;32mIn[23], line 20\u001b[0m\n\u001b[1;32m      3\u001b[0m \u001b[38;5;28;01mfrom\u001b[39;00m \u001b[38;5;21;01mgoogle\u001b[39;00m\u001b[38;5;21;01m.\u001b[39;00m\u001b[38;5;21;01mcloud\u001b[39;00m \u001b[38;5;28;01mimport\u001b[39;00m aiplatform\n\u001b[1;32m      5\u001b[0m \u001b[38;5;66;03m# my_index = aiplatform.MatchingEngineIndex.create_tree_ah_index(\u001b[39;00m\n\u001b[1;32m      6\u001b[0m \u001b[38;5;66;03m#     display_name=DISPLAY_NAME,\u001b[39;00m\n\u001b[1;32m      7\u001b[0m \u001b[38;5;66;03m#     contents_delta_uri=BUCKET_URI,\u001b[39;00m\n\u001b[0;32m   (...)\u001b[0m\n\u001b[1;32m     17\u001b[0m \u001b[38;5;66;03m#     display_name=f\"{DISPLAY_NAME}_endpoint\", public_endpoint_enabled=True\u001b[39;00m\n\u001b[1;32m     18\u001b[0m \u001b[38;5;66;03m# )\u001b[39;00m\n\u001b[0;32m---> 20\u001b[0m my_index_endpoint \u001b[38;5;241m=\u001b[39m \u001b[43mmy_index_endpoint\u001b[49m\u001b[38;5;241;43m.\u001b[39;49m\u001b[43mdeploy_index\u001b[49m\u001b[43m(\u001b[49m\n\u001b[1;32m     21\u001b[0m \u001b[43m    \u001b[49m\u001b[43mindex\u001b[49m\u001b[38;5;241;43m=\u001b[39;49m\u001b[43mmy_index\u001b[49m\u001b[43m,\u001b[49m\u001b[43m \u001b[49m\n\u001b[1;32m     22\u001b[0m \u001b[43m    \u001b[49m\u001b[43mdeployed_index_id\u001b[49m\u001b[38;5;241;43m=\u001b[39;49m\u001b[43mDEPLOYED_INDEX_ID\u001b[49m\u001b[43m,\u001b[49m\n\u001b[1;32m     23\u001b[0m \u001b[43m    \u001b[49m\u001b[43mmin_replica_count\u001b[49m\u001b[38;5;241;43m=\u001b[39;49m\u001b[38;5;241;43m1\u001b[39;49m\u001b[43m,\u001b[49m\n\u001b[1;32m     24\u001b[0m \u001b[43m    \u001b[49m\u001b[43mmax_replica_count\u001b[49m\u001b[38;5;241;43m=\u001b[39;49m\u001b[38;5;241;43m1\u001b[39;49m\n\u001b[1;32m     25\u001b[0m \u001b[43m)\u001b[49m\n",
      "File \u001b[0;32m~/miniconda3/envs/py310/lib/python3.10/site-packages/google/cloud/aiplatform/matching_engine/matching_engine_index_endpoint.py:1087\u001b[0m, in \u001b[0;36mMatchingEngineIndexEndpoint.deploy_index\u001b[0;34m(self, index, deployed_index_id, display_name, machine_type, min_replica_count, max_replica_count, enable_access_logging, reserved_ip_ranges, deployment_group, auth_config_audiences, auth_config_allowed_issuers, request_metadata, deploy_request_timeout)\u001b[0m\n\u001b[1;32m   1076\u001b[0m deploy_lro \u001b[38;5;241m=\u001b[39m \u001b[38;5;28mself\u001b[39m\u001b[38;5;241m.\u001b[39mapi_client\u001b[38;5;241m.\u001b[39mdeploy_index(\n\u001b[1;32m   1077\u001b[0m     index_endpoint\u001b[38;5;241m=\u001b[39m\u001b[38;5;28mself\u001b[39m\u001b[38;5;241m.\u001b[39mresource_name,\n\u001b[1;32m   1078\u001b[0m     deployed_index\u001b[38;5;241m=\u001b[39mdeployed_index,\n\u001b[1;32m   1079\u001b[0m     metadata\u001b[38;5;241m=\u001b[39mrequest_metadata,\n\u001b[1;32m   1080\u001b[0m     timeout\u001b[38;5;241m=\u001b[39mdeploy_request_timeout,\n\u001b[1;32m   1081\u001b[0m )\n\u001b[1;32m   1083\u001b[0m _LOGGER\u001b[38;5;241m.\u001b[39mlog_action_started_against_resource_with_lro(\n\u001b[1;32m   1084\u001b[0m     \u001b[38;5;124m\"\u001b[39m\u001b[38;5;124mDeploy index\u001b[39m\u001b[38;5;124m\"\u001b[39m, \u001b[38;5;124m\"\u001b[39m\u001b[38;5;124mindex_endpoint\u001b[39m\u001b[38;5;124m\"\u001b[39m, \u001b[38;5;28mself\u001b[39m\u001b[38;5;241m.\u001b[39m\u001b[38;5;18m__class__\u001b[39m, deploy_lro\n\u001b[1;32m   1085\u001b[0m )\n\u001b[0;32m-> 1087\u001b[0m \u001b[43mdeploy_lro\u001b[49m\u001b[38;5;241;43m.\u001b[39;49m\u001b[43mresult\u001b[49m\u001b[43m(\u001b[49m\u001b[43mtimeout\u001b[49m\u001b[38;5;241;43m=\u001b[39;49m\u001b[38;5;28;43;01mNone\u001b[39;49;00m\u001b[43m)\u001b[49m\n\u001b[1;32m   1089\u001b[0m _LOGGER\u001b[38;5;241m.\u001b[39mlog_action_completed_against_resource(\n\u001b[1;32m   1090\u001b[0m     \u001b[38;5;124m\"\u001b[39m\u001b[38;5;124mindex_endpoint\u001b[39m\u001b[38;5;124m\"\u001b[39m, \u001b[38;5;124m\"\u001b[39m\u001b[38;5;124mDeployed index\u001b[39m\u001b[38;5;124m\"\u001b[39m, \u001b[38;5;28mself\u001b[39m\n\u001b[1;32m   1091\u001b[0m )\n\u001b[1;32m   1093\u001b[0m \u001b[38;5;66;03m# update local resource\u001b[39;00m\n",
      "File \u001b[0;32m~/miniconda3/envs/py310/lib/python3.10/site-packages/google/api_core/future/polling.py:261\u001b[0m, in \u001b[0;36mPollingFuture.result\u001b[0;34m(self, timeout, retry, polling)\u001b[0m\n\u001b[1;32m    256\u001b[0m \u001b[38;5;28mself\u001b[39m\u001b[38;5;241m.\u001b[39m_blocking_poll(timeout\u001b[38;5;241m=\u001b[39mtimeout, retry\u001b[38;5;241m=\u001b[39mretry, polling\u001b[38;5;241m=\u001b[39mpolling)\n\u001b[1;32m    258\u001b[0m \u001b[38;5;28;01mif\u001b[39;00m \u001b[38;5;28mself\u001b[39m\u001b[38;5;241m.\u001b[39m_exception \u001b[38;5;129;01mis\u001b[39;00m \u001b[38;5;129;01mnot\u001b[39;00m \u001b[38;5;28;01mNone\u001b[39;00m:\n\u001b[1;32m    259\u001b[0m     \u001b[38;5;66;03m# pylint: disable=raising-bad-type\u001b[39;00m\n\u001b[1;32m    260\u001b[0m     \u001b[38;5;66;03m# Pylint doesn't recognize that this is valid in this case.\u001b[39;00m\n\u001b[0;32m--> 261\u001b[0m     \u001b[38;5;28;01mraise\u001b[39;00m \u001b[38;5;28mself\u001b[39m\u001b[38;5;241m.\u001b[39m_exception\n\u001b[1;32m    263\u001b[0m \u001b[38;5;28;01mreturn\u001b[39;00m \u001b[38;5;28mself\u001b[39m\u001b[38;5;241m.\u001b[39m_result\n",
      "\u001b[0;31mResourceExhausted\u001b[0m: 429 The following quotas are exceeded: MatchingEngineDeployedIndexNodes 8: The following quotas are exceeded: MatchingEngineDeployedIndexNodes"
     ]
    }
   ],
   "source": [
    "#NOTE : This operation can take upto 30 seconds\n",
    "\n",
    "from google.cloud import aiplatform\n",
    "\n",
    "# my_index = aiplatform.MatchingEngineIndex.create_tree_ah_index(\n",
    "#     display_name=DISPLAY_NAME,\n",
    "#     contents_delta_uri=BUCKET_URI,\n",
    "#     dimensions=DIMENSIONS,\n",
    "#     approximate_neighbors_count=150,\n",
    "#     distance_measure_type=\"COSINE_DISTANCE\",\n",
    "#     leaf_node_embedding_count=500,\n",
    "#     leaf_nodes_to_search_percent=7,\n",
    "#     index_update_method=\"STREAM_UPDATE\",  # allowed values BATCH_UPDATE , STREAM_UPDATE\n",
    "# )\n",
    "\n",
    "# my_index_endpoint = aiplatform.MatchingEngineIndexEndpoint.create(\n",
    "#     display_name=f\"{DISPLAY_NAME}_endpoint\", public_endpoint_enabled=True\n",
    "# )\n",
    "\n",
    "my_index_endpoint = my_index_endpoint.deploy_index(\n",
    "    index=my_index, \n",
    "    deployed_index_id=DEPLOYED_INDEX_ID,\n",
    "    min_replica_count=1,\n",
    "    max_replica_count=1\n",
    ")"
   ]
  },
  {
   "cell_type": "code",
   "execution_count": null,
   "id": "a25ebf89-e0b3-4d35-806c-4baceb1a18a0",
   "metadata": {},
   "outputs": [],
   "source": []
  }
 ],
 "metadata": {
  "kernelspec": {
   "display_name": "Python 3 (ipykernel)",
   "language": "python",
   "name": "python3"
  },
  "language_info": {
   "codemirror_mode": {
    "name": "ipython",
    "version": 3
   },
   "file_extension": ".py",
   "mimetype": "text/x-python",
   "name": "python",
   "nbconvert_exporter": "python",
   "pygments_lexer": "ipython3",
   "version": "3.10.14"
  }
 },
 "nbformat": 4,
 "nbformat_minor": 5
}
